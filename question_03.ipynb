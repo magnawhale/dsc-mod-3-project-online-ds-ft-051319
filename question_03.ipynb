{
 "cells": [
  {
   "cell_type": "markdown",
   "metadata": {},
   "source": [
    "# Question 3:\n",
    "\n",
    "### *Is there a correlation between product category and customer region?*\n",
    "\n",
    "## Define Hypotheses\n",
    "\n",
    "For this, we first need to define our hypotheses:\n",
    "<br>\n",
    "<br>\n",
    "    ***Null Hypothesis:*** There is no correlation between product category and customer region.\n",
    "<br>\n",
    "    ***Alternate Hypothesis:*** There is a statistically significant correlation between product category and customer region."
   ]
  },
  {
   "cell_type": "markdown",
   "metadata": {},
   "source": [
    "For reference, the relational structure of this dataset is provided below.\n",
    "<img src='Northwind_ERD.png'>"
   ]
  },
  {
   "cell_type": "code",
   "execution_count": null,
   "metadata": {},
   "outputs": [],
   "source": []
  },
  {
   "cell_type": "code",
   "execution_count": null,
   "metadata": {},
   "outputs": [],
   "source": []
  },
  {
   "cell_type": "code",
   "execution_count": null,
   "metadata": {},
   "outputs": [],
   "source": [
    "# For employees\n",
    "c.execute(\"\"\"SELECT Id, LastName, FirstName, Title, ReportsTo, \n",
    "          BirthDate, City, Region FROM 'Employee';\"\"\")\n",
    "employee_df = pd.DataFrame(c.fetchall())\n",
    "employee_df.columns = [x[0] for x in c.description]\n",
    "display(employee_df)\n",
    "print('employee_df\\n',employee_df.info())"
   ]
  },
  {
   "cell_type": "code",
   "execution_count": null,
   "metadata": {},
   "outputs": [],
   "source": [
    "# For customers\n",
    "c.execute(\"\"\"SELECT Id, CompanyName, ContactName, ContactTitle, \n",
    "          City, Country, Region FROM 'Customer';\"\"\")\n",
    "customer_df = pd.DataFrame(c.fetchall())\n",
    "customer_df.columns = [x[0] for x in c.description]\n",
    "display(customer_df.head(10))\n",
    "print('customer_df\\n',customer_df.info())"
   ]
  },
  {
   "cell_type": "code",
   "execution_count": null,
   "metadata": {},
   "outputs": [],
   "source": [
    "# For Orders\n",
    "\n",
    "c.execute(\"\"\"SELECT Id, CustomerId, EmployeeId, OrderDate, RequiredDate, \n",
    "          ShippedDate, ShipVia, Freight, ShipCity, ShipCountry, ShipRegion\n",
    "          FROM 'Order';\"\"\")\n",
    "order_df = pd.DataFrame(c.fetchall())\n",
    "order_df.columns = [x[0] for x in c.description]\n",
    "display(order_df.head(10))\n",
    "print('order_df\\n',order_df.info())\n",
    "\n",
    "c.execute(\"SELECT * FROM 'OrderDetail';\")\n",
    "orderdetail_df = pd.DataFrame(c.fetchall())\n",
    "orderdetail_df.columns = [x[0] for x in c.description]\n",
    "display(orderdetail_df.head(10))\n",
    "print('orderdetail_df\\n',orderdetail_df.info())"
   ]
  },
  {
   "cell_type": "code",
   "execution_count": null,
   "metadata": {},
   "outputs": [],
   "source": [
    "print(\"Customer Locations by Region\\n----------------------------\\n\", customer_df.Region.value_counts())\n",
    "print(\"\\nOrder Destinations by Region\\n----------------------------\\n\", order_df.ShipRegion.value_counts())"
   ]
  }
 ],
 "metadata": {
  "kernelspec": {
   "display_name": "Python [conda env:learn-env] *",
   "language": "python",
   "name": "conda-env-learn-env-py"
  },
  "language_info": {
   "codemirror_mode": {
    "name": "ipython",
    "version": 3
   },
   "file_extension": ".py",
   "mimetype": "text/x-python",
   "name": "python",
   "nbconvert_exporter": "python",
   "pygments_lexer": "ipython3",
   "version": "3.6.6"
  }
 },
 "nbformat": 4,
 "nbformat_minor": 2
}
