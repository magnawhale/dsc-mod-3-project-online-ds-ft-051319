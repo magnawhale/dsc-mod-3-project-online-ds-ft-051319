{
 "cells": [
  {
   "cell_type": "markdown",
   "metadata": {},
   "source": [
    "# Question 2: \n",
    "\n",
    "### *Does the contact employee impact number or value of sales?*\n",
    "\n",
    "## Define Hypotheses\n",
    "\n",
    "For this, we first need to define our hypotheses:\n",
    "<br>\n",
    "<br>\n",
    "    ***Null Hypothesis:*** It makes no difference which employee took the order.\n",
    "<br>\n",
    "    ***Alternate Hypothesis:*** Certain employees generate more (or higher value) sales than others.\n",
    "\n"
   ]
  },
  {
   "cell_type": "markdown",
   "metadata": {},
   "source": [
    "For reference, the relational structure of this dataset is provided below.\n",
    "<img src='Northwind_ERD.png'>"
   ]
  },
  {
   "cell_type": "markdown",
   "metadata": {},
   "source": [
    "## Importing Data & Libraries"
   ]
  },
  {
   "cell_type": "code",
   "execution_count": 1,
   "metadata": {},
   "outputs": [],
   "source": [
    "# For SQL & dataframes\n",
    "import pandas as pd\n",
    "import sqlite3\n",
    "\n",
    "# For math & statistics\n",
    "import numpy as np\n",
    "import scipy.stats as stats\n",
    "\n",
    "# For graphing\n",
    "import matplotlib.pyplot as plt\n",
    "%matplotlib inline\n",
    "import seaborn as sns\n",
    "sns.set_style(\"darkgrid\")"
   ]
  },
  {
   "cell_type": "code",
   "execution_count": 2,
   "metadata": {},
   "outputs": [
    {
     "name": "stdout",
     "output_type": "stream",
     "text": [
      "[('Employee',), ('Category',), ('Customer',), ('Shipper',), ('Supplier',), ('Order',), ('Product',), ('OrderDetail',), ('CustomerCustomerDemo',), ('CustomerDemographic',), ('Region',), ('Territory',), ('EmployeeTerritory',)]\n"
     ]
    }
   ],
   "source": [
    "conn = sqlite3.connect('Northwind_small.sqlite')\n",
    "c = conn.cursor()\n",
    "\n",
    "c.execute(\"SELECT name FROM sqlite_master WHERE type='table';\")\n",
    "print(c.fetchall())"
   ]
  },
  {
   "cell_type": "code",
   "execution_count": null,
   "metadata": {},
   "outputs": [],
   "source": []
  },
  {
   "cell_type": "code",
   "execution_count": null,
   "metadata": {},
   "outputs": [],
   "source": []
  },
  {
   "cell_type": "code",
   "execution_count": null,
   "metadata": {},
   "outputs": [],
   "source": [
    "c.execute(\"select * from 'Product';\")\n",
    "product_df = pd.DataFrame(c.fetchall())\n",
    "product_df.columns = [x[0] for x in c.description]\n",
    "\n",
    "c.execute(\"select * from 'OrderDetail';\")\n",
    "orderdetail_df = pd.DataFrame(c.fetchall())\n",
    "orderdetail_df.columns = [x[0] for x in c.description]\n",
    "display(orderdetail_df.head())\n",
    "print('orderdetail_df\\n',orderdetail_df.info())\n",
    "\n",
    "c.execute(\"select * from 'Order';\")\n",
    "order_df = pd.DataFrame(c.fetchall())\n",
    "order_df.columns = [x[0] for x in c.description]\n",
    "display(order_df.head())\n",
    "print('order_df\\n',order_df.info())"
   ]
  },
  {
   "cell_type": "code",
   "execution_count": null,
   "metadata": {},
   "outputs": [],
   "source": [
    "c.execute(\"select * from 'Customer';\")\n",
    "customer_df = pd.DataFrame(c.fetchall())\n",
    "customer_df.columns = [x[0] for x in c.description]\n",
    "display(customer_df.head())\n",
    "print('customer_df\\n',customer_df.info())\n",
    "\n",
    "c.execute(\"select * from 'Employee';\")\n",
    "employee_df = pd.DataFrame(c.fetchall())\n",
    "employee_df.columns = [x[0] for x in c.description]\n",
    "display(employee_df)\n",
    "print('employee_df\\n',employee_df.info())"
   ]
  },
  {
   "cell_type": "code",
   "execution_count": null,
   "metadata": {},
   "outputs": [],
   "source": []
  },
  {
   "cell_type": "code",
   "execution_count": null,
   "metadata": {},
   "outputs": [],
   "source": []
  },
  {
   "cell_type": "code",
   "execution_count": null,
   "metadata": {},
   "outputs": [],
   "source": []
  },
  {
   "cell_type": "code",
   "execution_count": null,
   "metadata": {},
   "outputs": [],
   "source": []
  },
  {
   "cell_type": "code",
   "execution_count": null,
   "metadata": {},
   "outputs": [],
   "source": []
  },
  {
   "cell_type": "code",
   "execution_count": null,
   "metadata": {},
   "outputs": [],
   "source": []
  },
  {
   "cell_type": "code",
   "execution_count": null,
   "metadata": {},
   "outputs": [],
   "source": []
  },
  {
   "cell_type": "code",
   "execution_count": null,
   "metadata": {},
   "outputs": [],
   "source": []
  },
  {
   "cell_type": "code",
   "execution_count": null,
   "metadata": {},
   "outputs": [],
   "source": []
  },
  {
   "cell_type": "code",
   "execution_count": null,
   "metadata": {},
   "outputs": [],
   "source": []
  },
  {
   "cell_type": "code",
   "execution_count": null,
   "metadata": {},
   "outputs": [],
   "source": []
  },
  {
   "cell_type": "code",
   "execution_count": null,
   "metadata": {},
   "outputs": [],
   "source": []
  },
  {
   "cell_type": "code",
   "execution_count": null,
   "metadata": {},
   "outputs": [],
   "source": []
  },
  {
   "cell_type": "code",
   "execution_count": null,
   "metadata": {},
   "outputs": [],
   "source": []
  },
  {
   "cell_type": "code",
   "execution_count": null,
   "metadata": {},
   "outputs": [],
   "source": []
  },
  {
   "cell_type": "code",
   "execution_count": null,
   "metadata": {},
   "outputs": [],
   "source": []
  },
  {
   "cell_type": "code",
   "execution_count": null,
   "metadata": {},
   "outputs": [],
   "source": []
  },
  {
   "cell_type": "code",
   "execution_count": null,
   "metadata": {},
   "outputs": [],
   "source": []
  }
 ],
 "metadata": {
  "kernelspec": {
   "display_name": "Python [conda env:learn-env] *",
   "language": "python",
   "name": "conda-env-learn-env-py"
  },
  "language_info": {
   "codemirror_mode": {
    "name": "ipython",
    "version": 3
   },
   "file_extension": ".py",
   "mimetype": "text/x-python",
   "name": "python",
   "nbconvert_exporter": "python",
   "pygments_lexer": "ipython3",
   "version": "3.6.6"
  }
 },
 "nbformat": 4,
 "nbformat_minor": 2
}
